{
  "nbformat": 4,
  "nbformat_minor": 0,
  "metadata": {
    "colab": {
      "private_outputs": true,
      "provenance": [],
      "authorship_tag": "ABX9TyOaE9u9PIbJLxYtKvrhfdL+",
      "include_colab_link": true
    },
    "kernelspec": {
      "name": "python3",
      "display_name": "Python 3"
    },
    "language_info": {
      "name": "python"
    }
  },
  "cells": [
    {
      "cell_type": "markdown",
      "metadata": {
        "id": "view-in-github",
        "colab_type": "text"
      },
      "source": [
        "<a href=\"https://colab.research.google.com/github/lohan20s/Predict_Spam_Message_LSTM/blob/main/fcc_sms_spam_classification_SL.ipynb\" target=\"_parent\"><img src=\"https://colab.research.google.com/assets/colab-badge.svg\" alt=\"Open In Colab\"/></a>"
      ]
    },
    {
      "cell_type": "code",
      "execution_count": null,
      "metadata": {
        "id": "8RZOuS9LWQvv",
        "collapsed": true
      },
      "outputs": [],
      "source": [
        "# import libraries\n",
        "try:\n",
        "  # %tensorflow_version only exists in Colab.\n",
        "  !pip install tf-nightly\n",
        "except Exception:\n",
        "  pass\n",
        "import tensorflow as tf\n",
        "import pandas as pd\n",
        "from tensorflow import keras\n",
        "!pip install tensorflow-datasets\n",
        "import tensorflow_datasets as tfds\n",
        "import numpy as np\n",
        "import matplotlib.pyplot as plt\n"
      ]
    },
    {
      "cell_type": "code",
      "source": [
        "# get data files\n",
        "!wget https://cdn.freecodecamp.org/project-data/sms/train-data.tsv\n",
        "!wget https://cdn.freecodecamp.org/project-data/sms/valid-data.tsv\n",
        "\n",
        "train_file_path = \"train-data.tsv\"\n",
        "test_file_path = \"valid-data.tsv\""
      ],
      "metadata": {
        "id": "ZiZ6UuNltmVV"
      },
      "execution_count": null,
      "outputs": []
    },
    {
      "cell_type": "code",
      "source": [
        "#load train and test data\n",
        "train_dataset=pd.read_csv(train_file_path,sep=\"\\t\",header=None)\n",
        "train_labels=train_dataset.pop(train_dataset.columns[0])\n",
        "train_labels_int= train_labels.map({'ham': 1, 'spam': 0})\n",
        "\n",
        "test_dataset=pd.read_csv(test_file_path,sep=\"\\t\",header=None)\n",
        "test_labels=test_dataset.pop(test_dataset.columns[0])\n",
        "test_labels_int= test_labels.map({'ham': 1, 'spam': 0})\n"
      ],
      "metadata": {
        "id": "-ri78Z1ZtrZj"
      },
      "execution_count": null,
      "outputs": []
    },
    {
      "cell_type": "code",
      "source": [
        "#encode words as integers by creating a dictionary from the full dataset\n",
        "tokenizer = keras.preprocessing.text.Tokenizer(filters='') #ensure filters are off, so that phone numbers are not filtered out\n",
        "combineddata=pd.concat([train_dataset,test_dataset])\n",
        "\n",
        "tokenizer.fit_on_texts(combineddata.squeeze())\n",
        "word_index = tokenizer.word_index  # Dictionary of words -> integer index\n",
        "VOCAB_SIZE = len(word_index)\n",
        "train_data = tokenizer.texts_to_sequences(train_dataset.squeeze())  # Convert sentences to sequences of integers\n",
        "test_data = tokenizer.texts_to_sequences(test_dataset.squeeze())  # Convert sentences to sequences of integers\n"
      ],
      "metadata": {
        "id": "koqCiQ5VtsDh"
      },
      "execution_count": null,
      "outputs": []
    },
    {
      "cell_type": "code",
      "source": [
        "#pad sequences so that all are the same length\n",
        "max_train_length = max(len(seq) for seq in train_data)\n",
        "max_test_length = max(len(seq) for seq in test_data)\n",
        "MAXLEN=max(max_train_length,max_test_length)\n",
        "\n",
        "Pad_sequence=keras.preprocessing.sequence.pad_sequences\n",
        "train_data = Pad_sequence(train_data, MAXLEN)\n",
        "test_data = Pad_sequence(test_data, MAXLEN)"
      ],
      "metadata": {
        "id": "yF4xlUfZtuLd"
      },
      "execution_count": null,
      "outputs": []
    },
    {
      "cell_type": "code",
      "source": [
        "#create a model with LSTM for sequential data\n",
        "model = tf.keras.Sequential([\n",
        "    tf.keras.layers.Embedding(VOCAB_SIZE+1, 64),\n",
        "    tf.keras.layers.LSTM(64),\n",
        "    tf.keras.layers.Dense(1, activation=\"sigmoid\")\n",
        "])\n",
        "model.summary()"
      ],
      "metadata": {
        "id": "LIf9rGv_txFO"
      },
      "execution_count": null,
      "outputs": []
    },
    {
      "cell_type": "code",
      "source": [
        "#compile and fit the model\n",
        "model.compile(loss=\"binary_crossentropy\",optimizer=\"rmsprop\",metrics=['acc'])\n",
        "model.fit(train_data, train_labels_int, epochs=10,validation_data=(test_data, test_labels_int))\n",
        "model.summary()"
      ],
      "metadata": {
        "id": "JORuYJFktz8P"
      },
      "execution_count": null,
      "outputs": []
    },
    {
      "cell_type": "code",
      "source": [
        "#print accuracy of the model on the test dataset\n",
        "results = model.evaluate(test_data, test_labels_int)\n",
        "print(results)"
      ],
      "metadata": {
        "id": "HCXgUVjMt2p8"
      },
      "execution_count": null,
      "outputs": []
    },
    {
      "cell_type": "code",
      "source": [
        "# function to predict messages based on model\n",
        "# (should return list containing prediction and label, ex. [0.008318834938108921, 'ham'])\n",
        "def predict_message(pred_text):\n",
        "  str=[pred_text]\n",
        "  str_int=tokenizer.texts_to_sequences(str)\n",
        "  str_int = keras.preprocessing.sequence.pad_sequences(str_int, MAXLEN)\n",
        "  results=model.predict(str_int)\n",
        "  prediction=[]\n",
        "  prediction.append(results[0][0])\n",
        "  if results[0][0]>0.5:\n",
        "    prediction.append('ham')\n",
        "  else:\n",
        "    prediction.append('spam')\n",
        "  return (prediction)\n",
        "\n",
        "pred_text = \"how are you doing today\"\n",
        "prediction = predict_message(pred_text)\n",
        "print(\"The text message \" + \"is \" + str(prediction[0]*100) +\"% \" + str(prediction[1]))"
      ],
      "metadata": {
        "id": "lYLpnxARt5Io"
      },
      "execution_count": null,
      "outputs": []
    },
    {
      "cell_type": "code",
      "source": [
        "# Run this cell to test your function and model. Do not modify contents.\n",
        "def test_predictions():\n",
        "  test_messages = [\"how are you doing today\",\n",
        "                   \"sale today! to stop texts call 98912460324\",\n",
        "                   \"i dont want to go. can we try it a different day? available sat\",\n",
        "                   \"our new mobile video service is live. just install on your phone to start watching.\",\n",
        "                   \"you have won £1000 cash! call to claim your prize.\",\n",
        "                   \"i'll bring it tomorrow. don't forget the milk.\",\n",
        "                   \"wow, is your arm alright. that happened to me one time too\"\n",
        "                  ]\n",
        "\n",
        "  test_answers = [\"ham\", \"spam\", \"ham\", \"spam\", \"spam\", \"ham\", \"ham\"]\n",
        "  passed = True\n",
        "\n",
        "  for msg, ans in zip(test_messages, test_answers):\n",
        "    prediction = predict_message(msg)\n",
        "    if prediction[1] != ans:\n",
        "      passed = False\n",
        "\n",
        "  if passed:\n",
        "    print(\"You passed the challenge. Great job!\")\n",
        "  else:\n",
        "    print(\"You haven't passed yet. Keep trying.\")\n",
        "\n",
        "test_predictions()"
      ],
      "metadata": {
        "id": "bG6bi85Wt-4D"
      },
      "execution_count": null,
      "outputs": []
    }
  ]
}